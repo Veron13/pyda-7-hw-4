{
 "cells": [
  {
   "cell_type": "markdown",
   "metadata": {},
   "source": [
    "## Задание 1"
   ]
  },
  {
   "cell_type": "markdown",
   "metadata": {},
   "source": [
    "Дан список вида:"
   ]
  },
  {
   "cell_type": "code",
   "execution_count": 93,
   "metadata": {},
   "outputs": [],
   "source": [
    "data = [\n",
    "    [13, 25, 23, 34],\n",
    "    [45, 32, 44, 47],\n",
    "    [12, 33, 23, 95],\n",
    "    [13, 53, 34, 35]\n",
    "]"
   ]
  },
  {
   "cell_type": "markdown",
   "metadata": {},
   "source": [
    "Напишите функцию, которая возвращает сумму элементов на диагонали. Т. е. 13+32+23+35.  \n",
    "Список может быть любой длины, но всегда является \"квадратным\" (количество элементов во вложенных списках равно их количеству)."
   ]
  },
  {
   "cell_type": "code",
   "execution_count": 106,
   "metadata": {},
   "outputs": [],
   "source": [
    "length = len(data)\n",
    "result = 0\n",
    "\n",
    "def matrix(result):\n",
    "    if length > 0 and length == len(data[0]):\n",
    "        for diagonal in range(0,length):\n",
    "            result = result + data[diagonal][diagonal]\n",
    "    print(result)"
   ]
  },
  {
   "cell_type": "code",
   "execution_count": 107,
   "metadata": {},
   "outputs": [
    {
     "name": "stdout",
     "output_type": "stream",
     "text": [
      "103\n"
     ]
    }
   ],
   "source": [
    "matrix(result)"
   ]
  },
  {
   "cell_type": "markdown",
   "metadata": {},
   "source": [
    "## Задание 2"
   ]
  },
  {
   "cell_type": "markdown",
   "metadata": {},
   "source": [
    "Напишите функцию, возвращающую сумму первых n чисел Фибоначчи (для этого вам может понадобится ознакомиться с рекурсией)."
   ]
  },
  {
   "cell_type": "code",
   "execution_count": 3,
   "metadata": {},
   "outputs": [],
   "source": [
    "def Fib():\n",
    "    number = int(input('Введите число, до которого нужно получить сумму: '))\n",
    "    func = 0\n",
    "    new_func = 1\n",
    "    position = 0\n",
    "\n",
    "    if number == 1:\n",
    "        return func\n",
    "    if number > 1:\n",
    "        sum_list = [0,1]\n",
    "        while position+2 < number:\n",
    "            res = func+new_func\n",
    "            sum_list.append(res)\n",
    "            func = new_func\n",
    "            new_func = res\n",
    "            position += 1\n",
    "            if position == number:\n",
    "                break\n",
    "    print(sum(sum_list))"
   ]
  },
  {
   "cell_type": "code",
   "execution_count": 4,
   "metadata": {},
   "outputs": [
    {
     "name": "stdout",
     "output_type": "stream",
     "text": [
      "Введите число, до которого нужно получить сумму: 5\n",
      "7\n"
     ]
    }
   ],
   "source": [
    "Fib()"
   ]
  },
  {
   "cell_type": "markdown",
   "metadata": {},
   "source": [
    "## Задание 3"
   ]
  },
  {
   "cell_type": "markdown",
   "metadata": {},
   "source": [
    "Напишите функцию, преобразующую произвольный список вида ['2018-01-01', 'yandex', 'cpc', 100] (он может быть любой длины)\n",
    "в словарь {'2018-01-01': {'yandex': {'cpc': 100}}}"
   ]
  },
  {
   "cell_type": "code",
   "execution_count": 22,
   "metadata": {},
   "outputs": [],
   "source": [
    "our_list =['2018-01-01', 'yandex', 'cpc', 100]\n",
    "length_list = len(our_list)\n",
    "\n",
    "def list_in_dict(our_list):\n",
    "    i = 2\n",
    "    our_dict = our_list[-1]\n",
    "    while i <= length_list:\n",
    "        our_dict = {our_list[-i]:our_dict}\n",
    "        i += 1\n",
    "    return our_dict"
   ]
  },
  {
   "cell_type": "code",
   "execution_count": 23,
   "metadata": {},
   "outputs": [
    {
     "data": {
      "text/plain": [
       "{'2018-01-01': {'yandex': {'cpc': 100}}}"
      ]
     },
     "execution_count": 23,
     "metadata": {},
     "output_type": "execute_result"
    }
   ],
   "source": [
    "list_in_dict(our_list)"
   ]
  },
  {
   "cell_type": "markdown",
   "metadata": {},
   "source": [
    "## Задание 4"
   ]
  },
  {
   "cell_type": "markdown",
   "metadata": {},
   "source": [
    "Вы работаете секретарем и вам постоянно приходят различные документы. Вы должны быть очень внимательны, чтобы не потерять ни один документ. Каталог документов хранится в следующем виде:"
   ]
  },
  {
   "cell_type": "code",
   "execution_count": 40,
   "metadata": {},
   "outputs": [],
   "source": [
    "documents = [\n",
    "    {'type': 'passport', 'number': '2207 876234', 'name': 'Василий Гупкин'},\n",
    "    {'type': 'invoice', 'number': '11-2', 'name': 'Геннадий Покемонов'},\n",
    "    {'type': 'insurance', 'number': '10006', 'name': 'Аристарх Павлов'}\n",
    "]\n"
   ]
  },
  {
   "cell_type": "markdown",
   "metadata": {},
   "source": [
    "Перечень полок, на которых находятся документы хранится в следующем виде:"
   ]
  },
  {
   "cell_type": "code",
   "execution_count": 41,
   "metadata": {},
   "outputs": [],
   "source": [
    "directories = {\n",
    "    '1': ['2207 876234', '11-2', '5455 028765'],\n",
    "    '2': ['10006', '5400 028765', '5455 002299']\n",
    "}\n"
   ]
  },
  {
   "cell_type": "markdown",
   "metadata": {},
   "source": [
    "Необходимо реализовать пользовательские команды (внимание! это не название функций, которые должны быть выразительными, а команды, которые вводит пользователь, чтобы получить необходимый результат):\n",
    "  \n",
    "- p – people – команда, которая спросит номер документа и выведет имя человека, которому он принадлежит;  \n",
    "- s – shelf – команда, которая спросит номер документа и выведет номер полки, на которой он находится  \n",
    "Правильно обработайте ситуацию, когда пользователь будет вводить несуществующий документ.\n",
    "- l – list – команда, которая выведет список всех документов в формате   \n",
    "**passport \"2207 876234\" \"Василий Гупкин\"**  \n",
    "- as – add shelf – команда, которая спросит номер новой полки и добавит ее в перечень\n",
    "- d – delete – команда, которая спросит номер документа и удалит его из каталога и из перечня полок. Предусмотрите сценарий, когда пользователь вводит несуществующий документ;  \n",
    "- m – move – команда, которая спросит номер документа и целевую полку и переместит его с текущей полки на целевую. Корректно обработайте кейсы, когда пользователь пытается переместить несуществующий документ или переместить документ на несуществующую полку;  \n",
    "- a – add – команда, которая добавит новый документ в каталог и в перечень полок, спросив его номер, тип, имя владельца и номер полки, на котором он будет храниться."
   ]
  },
  {
   "cell_type": "code",
   "execution_count": 42,
   "metadata": {},
   "outputs": [],
   "source": [
    " def info_name():\n",
    "        people = input('Номер документа:')\n",
    "        achor = 1\n",
    "        for validate in documents:\n",
    "            if people in validate.values():\n",
    "                print(validate['name'])\n",
    "                achor = 0\n",
    "        if achor == 1:\n",
    "            print('Такого документа нет')"
   ]
  },
  {
   "cell_type": "code",
   "execution_count": 43,
   "metadata": {},
   "outputs": [],
   "source": [
    " def shelf_number():\n",
    "        shelf = input('Номер документа:')\n",
    "        achor = 1\n",
    "        for key,validate in list(directories.items()):\n",
    "            if shelf in validate:\n",
    "                print(key)\n",
    "                achor = 0\n",
    "        if achor == 1:\n",
    "            print('Такого документа нет')"
   ]
  },
  {
   "cell_type": "code",
   "execution_count": 44,
   "metadata": {},
   "outputs": [],
   "source": [
    " def full_info():\n",
    "        for validate in documents:\n",
    "            info_list = list(validate.values())\n",
    "            print(str(info_list[0])+' \"'+str(info_list[1])+'\"'+' \"'+str(info_list[2])+'\"')"
   ]
  },
  {
   "cell_type": "code",
   "execution_count": 45,
   "metadata": {},
   "outputs": [],
   "source": [
    " def adding():\n",
    "        print('Список полок, которые уже существуют: '+str(list(directories.keys())))\n",
    "        new_shelf = input('Введите номер новой полки: ')\n",
    "        if new_shelf in directories:\n",
    "            print('Такая полка уже существует')\n",
    "        if new_shelf not in directories:\n",
    "            directories.setdefault(new_shelf, [])\n",
    "            print('Полка была успешно добавлена')"
   ]
  },
  {
   "cell_type": "code",
   "execution_count": 46,
   "metadata": {},
   "outputs": [],
   "source": [
    " def number_deletion():\n",
    "        delete = input('Введите номер документа, которого нужно удалить: ')\n",
    "        anchor = 0\n",
    "        for search in documents:\n",
    "            if delete in search.values():\n",
    "                documents.remove(search)\n",
    "                anchor = 1\n",
    "        for search_list in list(directories.values()):\n",
    "            if delete in search_list:\n",
    "                search_list.remove(delete)\n",
    "        if anchor == 0:\n",
    "            print('Такого документа нет')"
   ]
  },
  {
   "cell_type": "code",
   "execution_count": 47,
   "metadata": {},
   "outputs": [],
   "source": [
    "def moving_numbers():\n",
    "        number_move = input('Номер документа, который нужно переместить:')\n",
    "        achor = 0\n",
    "        for key,validate in list(directories.items()):\n",
    "            if number_move in validate:\n",
    "                print('Он находится на полке №'+str(key))\n",
    "                old = str(key)\n",
    "                achor = 1\n",
    "        if achor == 0:\n",
    "            print('Такого документа нет')\n",
    "        if achor == 1:\n",
    "            print('Список полок, которые уже существуют: '+str(list(directories.keys())))\n",
    "            new_move=input('На какую полку нужно переместить номер документа:')\n",
    "            for key,validate in list(directories.items()):\n",
    "                if new_move in key:\n",
    "                    validate.append(number_move)\n",
    "                    achor = 0\n",
    "                    if number_move in directories[old]:\n",
    "                        directories[old].remove(number_move)\n",
    "                        achor = 0\n",
    "            if achor == 1:\n",
    "                print('Такой полки нет')"
   ]
  },
  {
   "cell_type": "code",
   "execution_count": 48,
   "metadata": {},
   "outputs": [],
   "source": [
    " def adding_a_new_document():\n",
    "        print('Список полок, которые уже существуют: '+str(list(directories.keys())))\n",
    "        add_number_on = input('На какую полку нужно добавить номер:')\n",
    "        if str(add_number_on) not in directories:\n",
    "            print('Такой полки нет')\n",
    "        if str(add_number_on) in directories:\n",
    "            add_type = input('Тип документа:')\n",
    "            add_number = input('Номер документа:')\n",
    "            add_name = input('Ваши фафмилия и имя:')\n",
    "            documents.append({'type': add_type, 'number':add_number,'name':add_name})\n",
    "            for number_shelf,values_shelf in list(directories.items()):\n",
    "                if add_number_on in number_shelf:\n",
    "                    values_shelf.append(add_number)"
   ]
  },
  {
   "cell_type": "code",
   "execution_count": 49,
   "metadata": {},
   "outputs": [],
   "source": [
    "def main():\n",
    "    command = input('Введите комманду: ')\n",
    "    if command == 'p' or command == 'people':\n",
    "        info_name()\n",
    "    elif command == 's' or command == 'shelf':\n",
    "        shelf_number()\n",
    "    elif command == 'l' or command == 'list': \n",
    "        full_info()\n",
    "    elif command == 'as' or command == 'add shelf':\n",
    "        adding()\n",
    "    elif command == 'd' or command == 'delete':\n",
    "        number_deletion()\n",
    "    elif command == 'm' or command == 'move':\n",
    "        moving_numbers()\n",
    "    elif command == 'a' or command == 'add':\n",
    "        adding_a_new_document()\n",
    "    else:\n",
    "        print('Такой комманды нет!')"
   ]
  },
  {
   "cell_type": "code",
   "execution_count": 50,
   "metadata": {},
   "outputs": [
    {
     "name": "stdout",
     "output_type": "stream",
     "text": [
      "Введите комманду: l\n",
      "passport \"2207 876234\" \"Василий Гупкин\"\n",
      "invoice \"11-2\" \"Геннадий Покемонов\"\n",
      "insurance \"10006\" \"Аристарх Павлов\"\n"
     ]
    }
   ],
   "source": [
    "main()"
   ]
  }
 ],
 "metadata": {
  "kernelspec": {
   "display_name": "Python 3",
   "language": "python",
   "name": "python3"
  },
  "language_info": {
   "codemirror_mode": {
    "name": "ipython",
    "version": 3
   },
   "file_extension": ".py",
   "mimetype": "text/x-python",
   "name": "python",
   "nbconvert_exporter": "python",
   "pygments_lexer": "ipython3",
   "version": "3.7.4"
  }
 },
 "nbformat": 4,
 "nbformat_minor": 2
}
